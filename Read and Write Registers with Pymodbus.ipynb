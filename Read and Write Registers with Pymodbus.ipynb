{
 "cells": [
  {
   "cell_type": "markdown",
   "id": "fa8da767",
   "metadata": {},
   "source": [
    "# Install Modbus library for python"
   ]
  },
  {
   "cell_type": "code",
   "execution_count": null,
   "id": "1c651a2b",
   "metadata": {},
   "outputs": [],
   "source": [
    "!pip install pymodbus"
   ]
  },
  {
   "cell_type": "markdown",
   "id": "d1ce446e",
   "metadata": {},
   "source": [
    "    # Import all functions"
   ]
  },
  {
   "cell_type": "code",
   "execution_count": null,
   "id": "27bc4cd8",
   "metadata": {},
   "outputs": [],
   "source": [
    "from pymodbus.client.sync import ModbusTcpClient"
   ]
  },
  {
   "cell_type": "markdown",
   "id": "49811f0d",
   "metadata": {},
   "source": [
    "# Connect with PLC Client (if real plc use IP address)"
   ]
  },
  {
   "cell_type": "code",
   "execution_count": null,
   "id": "e5fbf30c",
   "metadata": {},
   "outputs": [],
   "source": [
    "IP_Address = '127.0.0.1'\n",
    "client= ModbusTcpClient(IP_Address)"
   ]
  },
  {
   "cell_type": "code",
   "execution_count": null,
   "id": "432441b5",
   "metadata": {},
   "outputs": [],
   "source": [
    "print(client.connect())"
   ]
  },
  {
   "cell_type": "markdown",
   "id": "2a86db56",
   "metadata": {},
   "source": [
    "# Write Registers Values (%MW0) "
   ]
  },
  {
   "cell_type": "code",
   "execution_count": null,
   "id": "2b1414ed",
   "metadata": {},
   "outputs": [],
   "source": [
    "client.write_registers(0,10)"
   ]
  },
  {
   "cell_type": "markdown",
   "id": "b913987f",
   "metadata": {},
   "source": [
    "# Write Registers Values (%MW1)"
   ]
  },
  {
   "cell_type": "code",
   "execution_count": null,
   "id": "f6ed388e",
   "metadata": {},
   "outputs": [],
   "source": [
    "client.write_registers(1,11)"
   ]
  },
  {
   "cell_type": "markdown",
   "id": "a57174e3",
   "metadata": {},
   "source": [
    "# Write Registers Values (%MW2)"
   ]
  },
  {
   "cell_type": "code",
   "execution_count": null,
   "id": "cb11b437",
   "metadata": {},
   "outputs": [],
   "source": [
    "client.write_registers(2,12)"
   ]
  },
  {
   "cell_type": "markdown",
   "id": "ef876793",
   "metadata": {},
   "source": [
    "# Write Registers Values (%MW3)"
   ]
  },
  {
   "cell_type": "code",
   "execution_count": null,
   "id": "6d526741",
   "metadata": {},
   "outputs": [],
   "source": [
    "client.write_registers(3,13)"
   ]
  },
  {
   "cell_type": "markdown",
   "id": "43664b6b",
   "metadata": {},
   "source": [
    "# Write Registers Values (%MW4)"
   ]
  },
  {
   "cell_type": "code",
   "execution_count": null,
   "id": "3fb4d363",
   "metadata": {},
   "outputs": [],
   "source": [
    "client.write_registers(4,14)"
   ]
  },
  {
   "cell_type": "markdown",
   "id": "49165754",
   "metadata": {},
   "source": [
    "# Write Registers Values (%MW5)"
   ]
  },
  {
   "cell_type": "code",
   "execution_count": null,
   "id": "3ff3de05",
   "metadata": {},
   "outputs": [],
   "source": [
    "client.write_registers(5,15)"
   ]
  },
  {
   "cell_type": "code",
   "execution_count": null,
   "id": "bde9d015",
   "metadata": {},
   "outputs": [],
   "source": [
    "client.write_registers(6,100)"
   ]
  },
  {
   "cell_type": "code",
   "execution_count": null,
   "id": "73f46895",
   "metadata": {},
   "outputs": [],
   "source": [
    "mw6= client.read_holding_registers(6)"
   ]
  },
  {
   "cell_type": "code",
   "execution_count": null,
   "id": "fb121b23",
   "metadata": {},
   "outputs": [],
   "source": [
    "mw6.registers[0]"
   ]
  },
  {
   "cell_type": "markdown",
   "id": "00cb79f4",
   "metadata": {},
   "source": [
    "# Read Register Values (Ex: %MW0)"
   ]
  },
  {
   "cell_type": "code",
   "execution_count": null,
   "id": "37fb2527",
   "metadata": {},
   "outputs": [],
   "source": [
    "client.read_holding_registers?"
   ]
  },
  {
   "cell_type": "code",
   "execution_count": null,
   "id": "7d2bbf62",
   "metadata": {},
   "outputs": [],
   "source": [
    "result = client.read_holding_registers(0,6)"
   ]
  },
  {
   "cell_type": "code",
   "execution_count": null,
   "id": "d75bdb71",
   "metadata": {},
   "outputs": [],
   "source": [
    "print(\"%MW0 : \" + str(result.registers[0]))\n",
    "print(\"%MW1 : \" + str(result.registers[1]))\n",
    "print(\"%MW2 : \" + str(result.registers[2]))\n",
    "print(\"%MW3 : \" + str(result.registers[3]))\n",
    "print(\"%MW4 : \" + str(result.registers[4]))\n",
    "print(\"%MW5 : \" + str(result.registers[5]))"
   ]
  },
  {
   "cell_type": "markdown",
   "id": "cd31f48f",
   "metadata": {},
   "source": [
    "# Close connection With PLC"
   ]
  },
  {
   "cell_type": "code",
   "execution_count": null,
   "id": "e9573a1e",
   "metadata": {},
   "outputs": [],
   "source": [
    "client.close()"
   ]
  }
 ],
 "metadata": {
  "kernelspec": {
   "display_name": "Python 3 (ipykernel)",
   "language": "python",
   "name": "python3"
  },
  "language_info": {
   "codemirror_mode": {
    "name": "ipython",
    "version": 3
   },
   "file_extension": ".py",
   "mimetype": "text/x-python",
   "name": "python",
   "nbconvert_exporter": "python",
   "pygments_lexer": "ipython3",
   "version": "3.9.12"
  }
 },
 "nbformat": 4,
 "nbformat_minor": 5
}
