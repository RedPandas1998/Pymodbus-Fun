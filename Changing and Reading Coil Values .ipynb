{
 "cells": [
  {
   "cell_type": "markdown",
   "id": "e772693f",
   "metadata": {},
   "source": [
    "# Install Modbus library for python"
   ]
  },
  {
   "cell_type": "code",
   "execution_count": null,
   "id": "2439794e",
   "metadata": {},
   "outputs": [],
   "source": [
    "!pip install pymodbus"
   ]
  },
  {
   "cell_type": "markdown",
   "id": "ee835fe1",
   "metadata": {},
   "source": [
    "# Import all necessary functions"
   ]
  },
  {
   "cell_type": "code",
   "execution_count": null,
   "id": "ab9ab808",
   "metadata": {},
   "outputs": [],
   "source": [
    "from pymodbus.client.sync import ModbusTcpClient"
   ]
  },
  {
   "cell_type": "markdown",
   "id": "c4c5eecc",
   "metadata": {},
   "source": [
    "# Connect with PLC Client, use real ip address if real "
   ]
  },
  {
   "cell_type": "code",
   "execution_count": null,
   "id": "e322c4d3",
   "metadata": {},
   "outputs": [],
   "source": [
    "IP_Address = '127.0.0.1'\n",
    "client = ModbusTcpClient(IP_Address)"
   ]
  },
  {
   "cell_type": "code",
   "execution_count": null,
   "id": "3297040c",
   "metadata": {},
   "outputs": [],
   "source": [
    "client.connect()"
   ]
  },
  {
   "cell_type": "markdown",
   "id": "e76ae946",
   "metadata": {},
   "source": [
    "# Write Coil (EX: %M0), in this example we will set %M0-M5 to True (1)"
   ]
  },
  {
   "cell_type": "code",
   "execution_count": null,
   "id": "16bd91f5",
   "metadata": {},
   "outputs": [],
   "source": [
    "client.write_coils(0, [1]*6)"
   ]
  },
  {
   "cell_type": "code",
   "execution_count": null,
   "id": "450756e8",
   "metadata": {},
   "outputs": [],
   "source": [
    "client.write_coils?"
   ]
  },
  {
   "cell_type": "markdown",
   "id": "b226d7df",
   "metadata": {},
   "source": [
    "# Read Coil Status (Ex: %M0) This will read %M6 to %M10 (Total 5 Coils)"
   ]
  },
  {
   "cell_type": "code",
   "execution_count": null,
   "id": "9cbe0ee0",
   "metadata": {},
   "outputs": [],
   "source": [
    "result = client.read_coils(6,5)"
   ]
  },
  {
   "cell_type": "markdown",
   "id": "0eaaf63d",
   "metadata": {},
   "source": [
    "# Print Coil Status "
   ]
  },
  {
   "cell_type": "code",
   "execution_count": null,
   "id": "db552467",
   "metadata": {},
   "outputs": [],
   "source": [
    "if result:\n",
    "    print(\"%M6 : \" + str(result.bits[0]))\n",
    "    print(\"%M7 : \" + str(result.bits[1]))\n",
    "    print(\"%M8 : \" + str(result.bits[2]))\n",
    "    print(\"%M9 : \" + str(result.bits[3]))\n",
    "    print(\"%M10 : \" + str(result.bits[4]))"
   ]
  },
  {
   "cell_type": "markdown",
   "id": "fc694391",
   "metadata": {},
   "source": [
    "# Write Coil %M1 & %M2 to false (0)"
   ]
  },
  {
   "cell_type": "code",
   "execution_count": null,
   "id": "685b1e59",
   "metadata": {},
   "outputs": [],
   "source": [
    "client.write_coils(1, [0]*2)"
   ]
  },
  {
   "cell_type": "markdown",
   "id": "625a2fe8",
   "metadata": {},
   "source": [
    "# Read the results"
   ]
  },
  {
   "cell_type": "code",
   "execution_count": null,
   "id": "d9f4a9af",
   "metadata": {},
   "outputs": [],
   "source": [
    "result = client.read_coils(6,5)"
   ]
  },
  {
   "cell_type": "code",
   "execution_count": null,
   "id": "1dc8f236",
   "metadata": {},
   "outputs": [],
   "source": [
    "if result:\n",
    "    print(\"%M6 : \" + str(result.bits[0]))\n",
    "    print(\"%M7 : \" + str(result.bits[1]))\n",
    "    print(\"%M8 : \" + str(result.bits[2]))\n",
    "    print(\"%M9 : \" + str(result.bits[3]))\n",
    "    print(\"%M10 : \" + str(result.bits[4]))"
   ]
  },
  {
   "cell_type": "markdown",
   "id": "2996d863",
   "metadata": {},
   "source": [
    "# Close PLC Connection"
   ]
  },
  {
   "cell_type": "code",
   "execution_count": null,
   "id": "b100e6ca",
   "metadata": {},
   "outputs": [],
   "source": [
    "client.close()"
   ]
  }
 ],
 "metadata": {
  "kernelspec": {
   "display_name": "Python 3 (ipykernel)",
   "language": "python",
   "name": "python3"
  },
  "language_info": {
   "codemirror_mode": {
    "name": "ipython",
    "version": 3
   },
   "file_extension": ".py",
   "mimetype": "text/x-python",
   "name": "python",
   "nbconvert_exporter": "python",
   "pygments_lexer": "ipython3",
   "version": "3.9.12"
  }
 },
 "nbformat": 4,
 "nbformat_minor": 5
}
